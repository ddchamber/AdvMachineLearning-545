{
 "cells": [
  {
   "cell_type": "raw",
   "metadata": {
    "vscode": {
     "languageId": "raw"
    }
   },
   "source": [
    "---\n",
    "title: \"Final Project Part One - Demand Forecasting using Deep Learning\"\n",
    "author: Daniel Chamberlin\n",
    "format:\n",
    "  html:\n",
    "    theme: sandstone \n",
    "    toc: true\n",
    "    embed-resources: true\n",
    "---"
   ]
  },
  {
   "cell_type": "markdown",
   "metadata": {},
   "source": [
    "This final project will be a \"choose your own deep learning adventure.\" There are multiple reasons for this:\n",
    "\n",
    "### Assignment Specs\n",
    "1. \"Deep Learning\" encompasses too many different methods for us to cover in our last two weeks of the term. So, giving you the choice should help maximize what you get out of the last two weeks of our class.\n",
    "2. Opening this project now and giving you the choice means that you don't have to wait for me to cover anything in class before starting work\n",
    "\n",
    "There are some constraints to the adventure you choose in order to give the projects some structure and consistency:\n",
    "\n",
    "1. Create two of your own **\"NEW\"** keras code examples that could, theoretically, be added here: https://keras.io/examples/ to an external site. . You do NOT need to follow their posted \"rules\" for this, but you should try to:\n",
    "- Shorter than 300 lines of code if you can (this does not include data wrangling and pre-processing).\n",
    "    - Comments and explanatory text may be as long as you want!!!\n",
    "- It should demonstrate modern keras/TensorFlow best practices (your approach and code style should mimic the other examples posted).\n",
    "- **You do not need to create anything from scratch. In fact, you should feel free to pick two of the examples at this site to recreate with at least the following differences:**\n",
    "    - A new dataset\n",
    "    - Improved narrative text\n",
    "- **Your choice of topic should be informed by the following goal:**\n",
    "    - **Pitch deep learning as a business analytics tool**\n",
    "    - Common areas of application include:\n",
    "        - Image recognition\n",
    "        - Natural language processing\n",
    "        - Customer relationship management\n",
    "        - Recommendation systems\n",
    "        - Bioinformatics\n",
    "        - Medical image analysis\n",
    "        - Financial fraud detection\n",
    "- It should be well documented and commented.\n",
    "- <u>Your resulting submission should be understandable by a student who has just finished GSB 544.</u>\n",
    "- You should be running this example yourself to confirm that it is accessible to people new to this content.\n",
    "- Your submission should be a single notebook/file for each example selected.\n",
    "While you may technically choose to pursue a project involving any neural network-related models, I would strongly encourage you to explore models and/or tasks that we did NOT discuss in the first 8 weeks of our course.\n",
    "\n",
    "### Notes:\n",
    "Deep Learning:\n",
    "- A class of machine learning algorithms that uses multiple layers to progressively extract higher-level features from the raw input\n",
    "\n",
    "Autoencoder:\n",
    "- A specific type of feedmforward neural network where the input is the same as the output\n",
    "- They compress the input into a lower-dimensional code and then reconstruct the output from this representation\n",
    "- Consists of 3 components:\n",
    "1. encoder\n",
    "2. code\n",
    "3. decoder\n",
    "\n",
    "^ Mainly a dimensionality reduction (or compression) algorithm\n",
    "- Data-specific: only really able to meaningfully compress data similar to what they have been trained on\n",
    "- It’s not fully lossless: output will not be exactly the same as the input\n",
    "- Unsupervised (self-supervised)\n",
    "- Usually use mean squared error or cross entropy as the loss function"
   ]
  },
  {
   "cell_type": "markdown",
   "metadata": {},
   "source": [
    "## Demand Forecasting with ERP System\n",
    "*Data:* [Favorita Grocery Sales](https://www.kaggle.com/competitions/favorita-grocery-sales-forecasting/data)"
   ]
  },
  {
   "cell_type": "code",
   "execution_count": 4,
   "metadata": {},
   "outputs": [],
   "source": [
    "import pandas as pd\n",
    "import pandas as pd\n",
    "import numpy as np\n",
    "from sklearn.metrics import mean_squared_error, mean_absolute_error\n",
    "import matplotlib.pyplot as plt\n",
    "from tensorflow.keras.models import Sequential\n",
    "from tensorflow.keras.layers import LSTM, Dense, Dropout, BatchNormalization, Bidirectional"
   ]
  },
  {
   "cell_type": "code",
   "execution_count": 5,
   "metadata": {},
   "outputs": [
    {
     "name": "stderr",
     "output_type": "stream",
     "text": [
      "/var/folders/jl/kkh608tn0k194f6cv0bwbqp80000gn/T/ipykernel_4573/3533856664.py:1: DtypeWarning: Columns (5) have mixed types. Specify dtype option on import or set low_memory=False.\n",
      "  train = pd.read_csv('/Users/dan/calpoly/BusinessAnalytics/GSB545ADML/Week9/Favorita/train.csv')\n"
     ]
    }
   ],
   "source": [
    "train = pd.read_csv('/Users/dan/calpoly/BusinessAnalytics/GSB545ADML/Week9/Favorita/train.csv')\n",
    "stores = pd.read_csv(\"/Users/dan/calpoly/BusinessAnalytics/GSB545ADML/Week9/Favorita/stores.csv\")\n",
    "items = pd.read_csv(\"/Users/dan/calpoly/BusinessAnalytics/GSB545ADML/Week9/Favorita/items.csv\")"
   ]
  },
  {
   "cell_type": "code",
   "execution_count": 33,
   "metadata": {},
   "outputs": [
    {
     "data": {
      "text/html": [
       "<div>\n",
       "<style scoped>\n",
       "    .dataframe tbody tr th:only-of-type {\n",
       "        vertical-align: middle;\n",
       "    }\n",
       "\n",
       "    .dataframe tbody tr th {\n",
       "        vertical-align: top;\n",
       "    }\n",
       "\n",
       "    .dataframe thead th {\n",
       "        text-align: right;\n",
       "    }\n",
       "</style>\n",
       "<table border=\"1\" class=\"dataframe\">\n",
       "  <thead>\n",
       "    <tr style=\"text-align: right;\">\n",
       "      <th></th>\n",
       "      <th>id</th>\n",
       "      <th>date</th>\n",
       "      <th>store_nbr</th>\n",
       "      <th>item_nbr</th>\n",
       "      <th>unit_sales</th>\n",
       "      <th>onpromotion</th>\n",
       "    </tr>\n",
       "  </thead>\n",
       "  <tbody>\n",
       "    <tr>\n",
       "      <th>0</th>\n",
       "      <td>0</td>\n",
       "      <td>2013-01-01</td>\n",
       "      <td>25</td>\n",
       "      <td>103665</td>\n",
       "      <td>7.0</td>\n",
       "      <td>NaN</td>\n",
       "    </tr>\n",
       "    <tr>\n",
       "      <th>1</th>\n",
       "      <td>1</td>\n",
       "      <td>2013-01-01</td>\n",
       "      <td>25</td>\n",
       "      <td>105574</td>\n",
       "      <td>1.0</td>\n",
       "      <td>NaN</td>\n",
       "    </tr>\n",
       "    <tr>\n",
       "      <th>2</th>\n",
       "      <td>2</td>\n",
       "      <td>2013-01-01</td>\n",
       "      <td>25</td>\n",
       "      <td>105575</td>\n",
       "      <td>2.0</td>\n",
       "      <td>NaN</td>\n",
       "    </tr>\n",
       "    <tr>\n",
       "      <th>3</th>\n",
       "      <td>3</td>\n",
       "      <td>2013-01-01</td>\n",
       "      <td>25</td>\n",
       "      <td>108079</td>\n",
       "      <td>1.0</td>\n",
       "      <td>NaN</td>\n",
       "    </tr>\n",
       "    <tr>\n",
       "      <th>4</th>\n",
       "      <td>4</td>\n",
       "      <td>2013-01-01</td>\n",
       "      <td>25</td>\n",
       "      <td>108701</td>\n",
       "      <td>1.0</td>\n",
       "      <td>NaN</td>\n",
       "    </tr>\n",
       "  </tbody>\n",
       "</table>\n",
       "</div>"
      ],
      "text/plain": [
       "   id        date  store_nbr  item_nbr  unit_sales onpromotion\n",
       "0   0  2013-01-01         25    103665         7.0         NaN\n",
       "1   1  2013-01-01         25    105574         1.0         NaN\n",
       "2   2  2013-01-01         25    105575         2.0         NaN\n",
       "3   3  2013-01-01         25    108079         1.0         NaN\n",
       "4   4  2013-01-01         25    108701         1.0         NaN"
      ]
     },
     "execution_count": 33,
     "metadata": {},
     "output_type": "execute_result"
    }
   ],
   "source": [
    "train.head()"
   ]
  },
  {
   "cell_type": "markdown",
   "metadata": {},
   "source": [
    "#### Clean Data\n",
    "\n",
    "- Remove NaN values\n",
    "- Logarithmic scale on sales for target variable\n",
    "- Add categorical data for the day of the week, month, and year\n",
    "- Add binary variable for is_weekend\n",
    "- Merge othe two datasets in ERP system to increase inputs for better prediction.\n"
   ]
  },
  {
   "cell_type": "code",
   "execution_count": 6,
   "metadata": {},
   "outputs": [
    {
     "name": "stderr",
     "output_type": "stream",
     "text": [
      "/var/folders/jl/kkh608tn0k194f6cv0bwbqp80000gn/T/ipykernel_4573/1656104518.py:1: FutureWarning: Downcasting object dtype arrays on .fillna, .ffill, .bfill is deprecated and will change in a future version. Call result.infer_objects(copy=False) instead. To opt-in to the future behavior, set `pd.set_option('future.no_silent_downcasting', True)`\n",
      "  train[\"onpromotion\"] = train[\"onpromotion\"].fillna(False)\n"
     ]
    }
   ],
   "source": [
    "train[\"onpromotion\"] = train[\"onpromotion\"].fillna(False)\n",
    "train[\"unit_sales\"] = train[\"unit_sales\"].clip(lower=0)\n",
    "train[\"log_sales\"] = np.log1p(train[\"unit_sales\"])\n",
    "train[\"date\"] = pd.to_datetime(train[\"date\"], errors=\"coerce\")\n",
    "train[\"dayofweek\"] = train[\"date\"].dt.dayofweek\n",
    "train[\"month\"] = train[\"date\"].dt.month\n",
    "train[\"year\"] = train[\"date\"].dt.year\n",
    "train[\"is_weekend\"] = train[\"dayofweek\"].isin([5, 6])\n",
    "\n",
    "train = train.merge(items, on=\"item_nbr\", how=\"left\")\n",
    "train = train.merge(stores, on=\"store_nbr\", how=\"left\")"
   ]
  },
  {
   "cell_type": "code",
   "execution_count": 7,
   "metadata": {},
   "outputs": [
    {
     "data": {
      "text/html": [
       "<div>\n",
       "<style scoped>\n",
       "    .dataframe tbody tr th:only-of-type {\n",
       "        vertical-align: middle;\n",
       "    }\n",
       "\n",
       "    .dataframe tbody tr th {\n",
       "        vertical-align: top;\n",
       "    }\n",
       "\n",
       "    .dataframe thead th {\n",
       "        text-align: right;\n",
       "    }\n",
       "</style>\n",
       "<table border=\"1\" class=\"dataframe\">\n",
       "  <thead>\n",
       "    <tr style=\"text-align: right;\">\n",
       "      <th></th>\n",
       "      <th>id</th>\n",
       "      <th>date</th>\n",
       "      <th>store_nbr</th>\n",
       "      <th>item_nbr</th>\n",
       "      <th>unit_sales</th>\n",
       "      <th>onpromotion</th>\n",
       "      <th>log_sales</th>\n",
       "      <th>dayofweek</th>\n",
       "      <th>month</th>\n",
       "      <th>year</th>\n",
       "      <th>is_weekend</th>\n",
       "      <th>family</th>\n",
       "      <th>class</th>\n",
       "      <th>perishable</th>\n",
       "      <th>city</th>\n",
       "      <th>state</th>\n",
       "      <th>type</th>\n",
       "      <th>cluster</th>\n",
       "    </tr>\n",
       "  </thead>\n",
       "  <tbody>\n",
       "    <tr>\n",
       "      <th>0</th>\n",
       "      <td>0</td>\n",
       "      <td>2013-01-01</td>\n",
       "      <td>25</td>\n",
       "      <td>103665</td>\n",
       "      <td>7.0</td>\n",
       "      <td>False</td>\n",
       "      <td>2.079442</td>\n",
       "      <td>1</td>\n",
       "      <td>1</td>\n",
       "      <td>2013</td>\n",
       "      <td>False</td>\n",
       "      <td>BREAD/BAKERY</td>\n",
       "      <td>2712</td>\n",
       "      <td>1</td>\n",
       "      <td>Salinas</td>\n",
       "      <td>Santa Elena</td>\n",
       "      <td>D</td>\n",
       "      <td>1</td>\n",
       "    </tr>\n",
       "    <tr>\n",
       "      <th>1</th>\n",
       "      <td>1</td>\n",
       "      <td>2013-01-01</td>\n",
       "      <td>25</td>\n",
       "      <td>105574</td>\n",
       "      <td>1.0</td>\n",
       "      <td>False</td>\n",
       "      <td>0.693147</td>\n",
       "      <td>1</td>\n",
       "      <td>1</td>\n",
       "      <td>2013</td>\n",
       "      <td>False</td>\n",
       "      <td>GROCERY I</td>\n",
       "      <td>1045</td>\n",
       "      <td>0</td>\n",
       "      <td>Salinas</td>\n",
       "      <td>Santa Elena</td>\n",
       "      <td>D</td>\n",
       "      <td>1</td>\n",
       "    </tr>\n",
       "    <tr>\n",
       "      <th>2</th>\n",
       "      <td>2</td>\n",
       "      <td>2013-01-01</td>\n",
       "      <td>25</td>\n",
       "      <td>105575</td>\n",
       "      <td>2.0</td>\n",
       "      <td>False</td>\n",
       "      <td>1.098612</td>\n",
       "      <td>1</td>\n",
       "      <td>1</td>\n",
       "      <td>2013</td>\n",
       "      <td>False</td>\n",
       "      <td>GROCERY I</td>\n",
       "      <td>1045</td>\n",
       "      <td>0</td>\n",
       "      <td>Salinas</td>\n",
       "      <td>Santa Elena</td>\n",
       "      <td>D</td>\n",
       "      <td>1</td>\n",
       "    </tr>\n",
       "    <tr>\n",
       "      <th>3</th>\n",
       "      <td>3</td>\n",
       "      <td>2013-01-01</td>\n",
       "      <td>25</td>\n",
       "      <td>108079</td>\n",
       "      <td>1.0</td>\n",
       "      <td>False</td>\n",
       "      <td>0.693147</td>\n",
       "      <td>1</td>\n",
       "      <td>1</td>\n",
       "      <td>2013</td>\n",
       "      <td>False</td>\n",
       "      <td>GROCERY I</td>\n",
       "      <td>1030</td>\n",
       "      <td>0</td>\n",
       "      <td>Salinas</td>\n",
       "      <td>Santa Elena</td>\n",
       "      <td>D</td>\n",
       "      <td>1</td>\n",
       "    </tr>\n",
       "    <tr>\n",
       "      <th>4</th>\n",
       "      <td>4</td>\n",
       "      <td>2013-01-01</td>\n",
       "      <td>25</td>\n",
       "      <td>108701</td>\n",
       "      <td>1.0</td>\n",
       "      <td>False</td>\n",
       "      <td>0.693147</td>\n",
       "      <td>1</td>\n",
       "      <td>1</td>\n",
       "      <td>2013</td>\n",
       "      <td>False</td>\n",
       "      <td>DELI</td>\n",
       "      <td>2644</td>\n",
       "      <td>1</td>\n",
       "      <td>Salinas</td>\n",
       "      <td>Santa Elena</td>\n",
       "      <td>D</td>\n",
       "      <td>1</td>\n",
       "    </tr>\n",
       "  </tbody>\n",
       "</table>\n",
       "</div>"
      ],
      "text/plain": [
       "   id       date  store_nbr  item_nbr  unit_sales  onpromotion  log_sales  \\\n",
       "0   0 2013-01-01         25    103665         7.0        False   2.079442   \n",
       "1   1 2013-01-01         25    105574         1.0        False   0.693147   \n",
       "2   2 2013-01-01         25    105575         2.0        False   1.098612   \n",
       "3   3 2013-01-01         25    108079         1.0        False   0.693147   \n",
       "4   4 2013-01-01         25    108701         1.0        False   0.693147   \n",
       "\n",
       "   dayofweek  month  year  is_weekend        family  class  perishable  \\\n",
       "0          1      1  2013       False  BREAD/BAKERY   2712           1   \n",
       "1          1      1  2013       False     GROCERY I   1045           0   \n",
       "2          1      1  2013       False     GROCERY I   1045           0   \n",
       "3          1      1  2013       False     GROCERY I   1030           0   \n",
       "4          1      1  2013       False          DELI   2644           1   \n",
       "\n",
       "      city        state type  cluster  \n",
       "0  Salinas  Santa Elena    D        1  \n",
       "1  Salinas  Santa Elena    D        1  \n",
       "2  Salinas  Santa Elena    D        1  \n",
       "3  Salinas  Santa Elena    D        1  \n",
       "4  Salinas  Santa Elena    D        1  "
      ]
     },
     "execution_count": 7,
     "metadata": {},
     "output_type": "execute_result"
    }
   ],
   "source": [
    "train.head()"
   ]
  },
  {
   "cell_type": "markdown",
   "metadata": {},
   "source": [
    "#### Feature Engineering\n",
    "\n",
    "- Focus on one high-selling item from one store\n",
    "- Sort the data by date for accurate time sequences\n",
    "- Convert `onpromotion` and `is_weekend` to 0 or 1\n",
    "- Normalize `dayofweek` and `month` to a 0–1 scale\n",
    "- Select key features: `log_sales`, `onpromotion`, `dayofweek`, `is_weekend`, `month`\n",
    "- Create a matrix where each day is a row and each feature is a column"
   ]
  },
  {
   "cell_type": "code",
   "execution_count": 8,
   "metadata": {},
   "outputs": [],
   "source": [
    "top_items = train.groupby(\"item_nbr\")[\"unit_sales\"].sum().sort_values(ascending=False).head(5).index\n",
    "store_id = 1\n",
    "subset = train[(train[\"item_nbr\"].isin(top_items)) & (train[\"store_nbr\"] == store_id)]\n",
    "\n",
    "pivot = subset.pivot(index=\"date\", columns=\"item_nbr\", values=\"log_sales\").fillna(0)\n",
    "item_id = pivot.columns[0]\n",
    "\n",
    "# Create enriched DataFrame for one item in one store\n",
    "filtered = subset[subset[\"item_nbr\"] == item_id].copy()\n",
    "\n",
    "# Sort by date and reset index\n",
    "filtered = filtered.sort_values(\"date\").reset_index(drop=True)\n",
    "\n",
    "# Normalize/encode features\n",
    "filtered[\"onpromotion\"] = filtered[\"onpromotion\"].astype(int)\n",
    "filtered[\"is_weekend\"] = filtered[\"is_weekend\"].astype(int)\n",
    "filtered[\"dayofweek\"] = filtered[\"dayofweek\"] / 6  # normalize to 0–1\n",
    "filtered[\"month\"] = filtered[\"month\"] / 12\n",
    "\n",
    "# Choose features to include in sequence\n",
    "features = [\"log_sales\", \"onpromotion\", \"dayofweek\", \"is_weekend\", \"month\"]\n",
    "\n",
    "data = filtered[features].values"
   ]
  },
  {
   "cell_type": "markdown",
   "metadata": {},
   "source": [
    "#### Create Sliding Window Sequences\n",
    "\n",
    "- Convert continuous time series into supervised learning format\n",
    "- Use a 30-day input window to predict the next 14 days\n",
    "- Inputs (`X`) contain sequences of past features for each time step\n",
    "- Targets (`y`) contain the next 14 days of `log_sales` only\n",
    "- Output format:\n",
    "  - `X` shape: (samples, 30, number of features)\n",
    "  - `y` shape: (samples, 14)"
   ]
  },
  {
   "cell_type": "code",
   "execution_count": 9,
   "metadata": {},
   "outputs": [],
   "source": [
    "def create_sequences(data, input_len=30, forecast_len=14):\n",
    "    X, y = [], []\n",
    "    for i in range(len(data) - input_len - forecast_len):\n",
    "        X.append(data[i:i+input_len])                            # shape: (30, num_features)\n",
    "        y.append(data[i+input_len:i+input_len+forecast_len, 0])  # only predict log_sales\n",
    "    return np.array(X), np.array(y)\n",
    "\n",
    "X, y = create_sequences(data)"
   ]
  },
  {
   "cell_type": "markdown",
   "metadata": {},
   "source": [
    "#### Train/Test Split"
   ]
  },
  {
   "cell_type": "code",
   "execution_count": 10,
   "metadata": {},
   "outputs": [],
   "source": [
    "split_idx = int(len(X) * 0.8)\n",
    "X_train, X_val = X[:split_idx], X[split_idx:]\n",
    "y_train, y_val = y[:split_idx], y[split_idx:]"
   ]
  },
  {
   "cell_type": "markdown",
   "metadata": {},
   "source": [
    "#### Train LSTM Forecasting Model\n",
    "\n",
    "- Use a Bidirectional LSTM to capture both past and future patterns in the input sequence\n",
    "- Add dropout after each layer to prevent overfitting\n",
    "- Apply batch normalization to stabilize and speed up training\n",
    "- Stack a second LSTM layer to learn more complex temporal patterns\n",
    "- Use a dense ReLU layer to transform learned features before output\n",
    "- Final dense layer outputs 14-day sales forecast\n",
    "- Compile model using mean squared error loss and the Adam optimizer\n",
    "- Train for 30 epochs with batch size of 32 and validation tracking"
   ]
  },
  {
   "cell_type": "code",
   "execution_count": 11,
   "metadata": {},
   "outputs": [
    {
     "name": "stderr",
     "output_type": "stream",
     "text": [
      "/Library/Frameworks/Python.framework/Versions/3.10/lib/python3.10/site-packages/keras/src/layers/rnn/bidirectional.py:107: UserWarning: Do not pass an `input_shape`/`input_dim` argument to a layer. When using Sequential models, prefer using an `Input(shape)` object as the first layer in the model instead.\n",
      "  super().__init__(**kwargs)\n"
     ]
    },
    {
     "name": "stdout",
     "output_type": "stream",
     "text": [
      "Epoch 1/30\n",
      "\u001b[1m41/41\u001b[0m \u001b[32m━━━━━━━━━━━━━━━━━━━━\u001b[0m\u001b[37m\u001b[0m \u001b[1m7s\u001b[0m 47ms/step - loss: 9.2628 - val_loss: 3.6287\n",
      "Epoch 2/30\n",
      "\u001b[1m41/41\u001b[0m \u001b[32m━━━━━━━━━━━━━━━━━━━━\u001b[0m\u001b[37m\u001b[0m \u001b[1m2s\u001b[0m 42ms/step - loss: 1.3938 - val_loss: 0.4766\n",
      "Epoch 3/30\n",
      "\u001b[1m41/41\u001b[0m \u001b[32m━━━━━━━━━━━━━━━━━━━━\u001b[0m\u001b[37m\u001b[0m \u001b[1m2s\u001b[0m 46ms/step - loss: 1.1192 - val_loss: 0.3743\n",
      "Epoch 4/30\n",
      "\u001b[1m41/41\u001b[0m \u001b[32m━━━━━━━━━━━━━━━━━━━━\u001b[0m\u001b[37m\u001b[0m \u001b[1m2s\u001b[0m 50ms/step - loss: 0.9494 - val_loss: 0.3836\n",
      "Epoch 5/30\n",
      "\u001b[1m41/41\u001b[0m \u001b[32m━━━━━━━━━━━━━━━━━━━━\u001b[0m\u001b[37m\u001b[0m \u001b[1m2s\u001b[0m 49ms/step - loss: 0.9205 - val_loss: 0.3540\n",
      "Epoch 6/30\n",
      "\u001b[1m41/41\u001b[0m \u001b[32m━━━━━━━━━━━━━━━━━━━━\u001b[0m\u001b[37m\u001b[0m \u001b[1m2s\u001b[0m 51ms/step - loss: 0.8676 - val_loss: 0.3546\n",
      "Epoch 7/30\n",
      "\u001b[1m41/41\u001b[0m \u001b[32m━━━━━━━━━━━━━━━━━━━━\u001b[0m\u001b[37m\u001b[0m \u001b[1m2s\u001b[0m 44ms/step - loss: 0.7919 - val_loss: 0.3676\n",
      "Epoch 8/30\n",
      "\u001b[1m41/41\u001b[0m \u001b[32m━━━━━━━━━━━━━━━━━━━━\u001b[0m\u001b[37m\u001b[0m \u001b[1m2s\u001b[0m 47ms/step - loss: 0.7582 - val_loss: 0.3842\n",
      "Epoch 9/30\n",
      "\u001b[1m41/41\u001b[0m \u001b[32m━━━━━━━━━━━━━━━━━━━━\u001b[0m\u001b[37m\u001b[0m \u001b[1m2s\u001b[0m 45ms/step - loss: 0.7267 - val_loss: 0.3851\n",
      "Epoch 10/30\n",
      "\u001b[1m41/41\u001b[0m \u001b[32m━━━━━━━━━━━━━━━━━━━━\u001b[0m\u001b[37m\u001b[0m \u001b[1m2s\u001b[0m 46ms/step - loss: 0.6911 - val_loss: 0.3699\n",
      "Epoch 11/30\n",
      "\u001b[1m41/41\u001b[0m \u001b[32m━━━━━━━━━━━━━━━━━━━━\u001b[0m\u001b[37m\u001b[0m \u001b[1m2s\u001b[0m 57ms/step - loss: 0.6610 - val_loss: 0.3212\n",
      "Epoch 12/30\n",
      "\u001b[1m41/41\u001b[0m \u001b[32m━━━━━━━━━━━━━━━━━━━━\u001b[0m\u001b[37m\u001b[0m \u001b[1m2s\u001b[0m 48ms/step - loss: 0.6389 - val_loss: 0.3282\n",
      "Epoch 13/30\n",
      "\u001b[1m41/41\u001b[0m \u001b[32m━━━━━━━━━━━━━━━━━━━━\u001b[0m\u001b[37m\u001b[0m \u001b[1m2s\u001b[0m 53ms/step - loss: 0.6067 - val_loss: 0.3414\n",
      "Epoch 14/30\n",
      "\u001b[1m41/41\u001b[0m \u001b[32m━━━━━━━━━━━━━━━━━━━━\u001b[0m\u001b[37m\u001b[0m \u001b[1m2s\u001b[0m 55ms/step - loss: 0.5886 - val_loss: 0.3065\n",
      "Epoch 15/30\n",
      "\u001b[1m41/41\u001b[0m \u001b[32m━━━━━━━━━━━━━━━━━━━━\u001b[0m\u001b[37m\u001b[0m \u001b[1m2s\u001b[0m 54ms/step - loss: 0.5541 - val_loss: 0.3235\n",
      "Epoch 16/30\n",
      "\u001b[1m41/41\u001b[0m \u001b[32m━━━━━━━━━━━━━━━━━━━━\u001b[0m\u001b[37m\u001b[0m \u001b[1m2s\u001b[0m 50ms/step - loss: 0.5366 - val_loss: 0.3234\n",
      "Epoch 17/30\n",
      "\u001b[1m41/41\u001b[0m \u001b[32m━━━━━━━━━━━━━━━━━━━━\u001b[0m\u001b[37m\u001b[0m \u001b[1m2s\u001b[0m 57ms/step - loss: 0.5298 - val_loss: 0.3075\n",
      "Epoch 18/30\n",
      "\u001b[1m41/41\u001b[0m \u001b[32m━━━━━━━━━━━━━━━━━━━━\u001b[0m\u001b[37m\u001b[0m \u001b[1m3s\u001b[0m 67ms/step - loss: 0.5258 - val_loss: 0.3005\n",
      "Epoch 19/30\n",
      "\u001b[1m41/41\u001b[0m \u001b[32m━━━━━━━━━━━━━━━━━━━━\u001b[0m\u001b[37m\u001b[0m \u001b[1m2s\u001b[0m 60ms/step - loss: 0.4997 - val_loss: 0.2870\n",
      "Epoch 20/30\n",
      "\u001b[1m41/41\u001b[0m \u001b[32m━━━━━━━━━━━━━━━━━━━━\u001b[0m\u001b[37m\u001b[0m \u001b[1m3s\u001b[0m 74ms/step - loss: 0.4729 - val_loss: 0.2820\n",
      "Epoch 21/30\n",
      "\u001b[1m41/41\u001b[0m \u001b[32m━━━━━━━━━━━━━━━━━━━━\u001b[0m\u001b[37m\u001b[0m \u001b[1m3s\u001b[0m 64ms/step - loss: 0.4924 - val_loss: 0.2821\n",
      "Epoch 22/30\n",
      "\u001b[1m41/41\u001b[0m \u001b[32m━━━━━━━━━━━━━━━━━━━━\u001b[0m\u001b[37m\u001b[0m \u001b[1m3s\u001b[0m 60ms/step - loss: 0.4456 - val_loss: 0.2721\n",
      "Epoch 23/30\n",
      "\u001b[1m41/41\u001b[0m \u001b[32m━━━━━━━━━━━━━━━━━━━━\u001b[0m\u001b[37m\u001b[0m \u001b[1m2s\u001b[0m 58ms/step - loss: 0.4247 - val_loss: 0.2568\n",
      "Epoch 24/30\n",
      "\u001b[1m41/41\u001b[0m \u001b[32m━━━━━━━━━━━━━━━━━━━━\u001b[0m\u001b[37m\u001b[0m \u001b[1m3s\u001b[0m 62ms/step - loss: 0.4507 - val_loss: 0.2501\n",
      "Epoch 25/30\n",
      "\u001b[1m41/41\u001b[0m \u001b[32m━━━━━━━━━━━━━━━━━━━━\u001b[0m\u001b[37m\u001b[0m \u001b[1m3s\u001b[0m 64ms/step - loss: 0.4338 - val_loss: 0.2481\n",
      "Epoch 26/30\n",
      "\u001b[1m41/41\u001b[0m \u001b[32m━━━━━━━━━━━━━━━━━━━━\u001b[0m\u001b[37m\u001b[0m \u001b[1m3s\u001b[0m 62ms/step - loss: 0.4294 - val_loss: 0.2548\n",
      "Epoch 27/30\n",
      "\u001b[1m41/41\u001b[0m \u001b[32m━━━━━━━━━━━━━━━━━━━━\u001b[0m\u001b[37m\u001b[0m \u001b[1m3s\u001b[0m 64ms/step - loss: 0.4132 - val_loss: 0.2574\n",
      "Epoch 28/30\n",
      "\u001b[1m41/41\u001b[0m \u001b[32m━━━━━━━━━━━━━━━━━━━━\u001b[0m\u001b[37m\u001b[0m \u001b[1m3s\u001b[0m 68ms/step - loss: 0.3982 - val_loss: 0.2774\n",
      "Epoch 29/30\n",
      "\u001b[1m41/41\u001b[0m \u001b[32m━━━━━━━━━━━━━━━━━━━━\u001b[0m\u001b[37m\u001b[0m \u001b[1m3s\u001b[0m 65ms/step - loss: 0.4007 - val_loss: 0.2695\n",
      "Epoch 30/30\n",
      "\u001b[1m41/41\u001b[0m \u001b[32m━━━━━━━━━━━━━━━━━━━━\u001b[0m\u001b[37m\u001b[0m \u001b[1m4s\u001b[0m 98ms/step - loss: 0.3874 - val_loss: 0.2645\n"
     ]
    },
    {
     "data": {
      "text/plain": [
       "<keras.src.callbacks.history.History at 0x14a765150>"
      ]
     },
     "execution_count": 11,
     "metadata": {},
     "output_type": "execute_result"
    }
   ],
   "source": [
    "model = Sequential([\n",
    "    Bidirectional(LSTM(64, return_sequences=True), input_shape=(30, X.shape[2])),\n",
    "    Dropout(0.3),\n",
    "    BatchNormalization(),\n",
    "\n",
    "    LSTM(32, return_sequences=False),\n",
    "    Dropout(0.3),\n",
    "\n",
    "    Dense(64, activation='relu'),\n",
    "    Dropout(0.2),\n",
    "    Dense(14)\n",
    "])\n",
    "\n",
    "model.compile(loss='mse', optimizer='adam')\n",
    "model.fit(X_train, y_train, validation_data=(X_val, y_val), epochs=30, batch_size=32)"
   ]
  },
  {
   "cell_type": "markdown",
   "metadata": {},
   "source": [
    "#### Validation Performance Summary"
   ]
  },
  {
   "cell_type": "code",
   "execution_count": 12,
   "metadata": {},
   "outputs": [
    {
     "name": "stdout",
     "output_type": "stream",
     "text": [
      "\u001b[1m11/11\u001b[0m \u001b[32m━━━━━━━━━━━━━━━━━━━━\u001b[0m\u001b[37m\u001b[0m \u001b[1m2s\u001b[0m 98ms/step\n",
      "Validation RMSE: 0.5143\n",
      "Validation MAE: 0.3702\n"
     ]
    }
   ],
   "source": [
    "# --- Validate ---\n",
    "y_pred = model.predict(X_val)\n",
    "rmse = np.sqrt(mean_squared_error(y_val.flatten(), y_pred.flatten()))\n",
    "mae = mean_absolute_error(y_val.flatten(), y_pred.flatten())\n",
    "print(f\"Validation RMSE: {rmse:.4f}\")\n",
    "print(f\"Validation MAE: {mae:.4f}\")"
   ]
  },
  {
   "cell_type": "markdown",
   "metadata": {},
   "source": [
    "- **Validation RMSE (Root Mean Squared Error): 0.5143**  \n",
    "  This measures the average magnitude of prediction error, giving more weight to larger errors. In this case, an RMSE of 0.5143 (in log-transformed sales units) indicates that the model's predictions are typically within a moderate range of the true values, but may still miss sharper spikes or dips.\n",
    "\n",
    "- **Validation MAE (Mean Absolute Error): 0.3702**  \n",
    "  This measures the average absolute difference between predicted and actual values. An MAE of 0.3702 means that, on average, the model is off by about 0.37 log-units per prediction. Since it's in log scale, this translates to roughly ±45% error on raw unit sales.\n",
    "\n",
    "These metrics suggest the model is doing a reasonably good job, especially for a 14-day forecast, but there's still room to improve precision—particularly during volatile periods.\n"
   ]
  },
  {
   "cell_type": "code",
   "execution_count": 13,
   "metadata": {},
   "outputs": [
    {
     "data": {
      "image/png": "[encoded data removed]",
      "text/plain": [
       "<Figure size 640x480 with 1 Axes>"
      ]
     },
     "metadata": {},
     "output_type": "display_data"
    }
   ],
   "source": [
    "# --- Plot sample forecast ---\n",
    "plt.plot(range(14), y_val[0], label=\"Actual\")\n",
    "plt.plot(range(14), y_pred[0], label=\"Predicted\")\n",
    "plt.title(\"14-Day Forecast (Validation Set)\")\n",
    "plt.xlabel(\"Days Ahead\")\n",
    "plt.ylabel(\"Log Sales\")\n",
    "plt.legend()\n",
    "plt.grid(True)\n",
    "plt.show()"
   ]
  },
  {
   "cell_type": "markdown",
   "metadata": {},
   "source": [
    "In this project, I built a deep learning model to forecast future product demand using historical ERP sales data. I worked with the Favorita grocery dataset and narrowed the focus to a high-selling item at a single store to create a clean and reliable time series. From there, I added key features like day of the week, month, weekend indicators, and promotion flags to give the model more context behind why demand might change.\n",
    "\n",
    "Using this data, I trained a bidirectional LSTM to predict the next 14 days of log-transformed sales. On the validation set, the model reached a RMSE of 0.5143 and a MAE of 0.3702, which is solid performance considering how unpredictable sales behavior can be.\n",
    "\n",
    "Overall, this is a great example of how deep learning can be applied to real business problems inside ERP systems. Forecasting demand accurately helps businesses stay stocked without overstocking, manage costs, and plan better across the supply chain. With the right data and modeling approach, deep learning can really outperform traditional forecasting methods—especially in fast-moving environments like retail."
   ]
  }
 ],
 "metadata": {
  "kernelspec": {
   "display_name": "Python 3",
   "language": "python",
   "name": "python3"
  },
  "language_info": {
   "codemirror_mode": {
    "name": "ipython",
    "version": 3
   },
   "file_extension": ".py",
   "mimetype": "text/x-python",
   "name": "python",
   "nbconvert_exporter": "python",
   "pygments_lexer": "ipython3",
   "version": "3.10.1"
  }
 },
 "nbformat": 4,
 "nbformat_minor": 2
}
