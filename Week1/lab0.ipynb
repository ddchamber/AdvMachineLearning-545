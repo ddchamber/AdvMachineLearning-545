{
 "cells": [
  {
   "cell_type": "raw",
   "metadata": {},
   "source": [
    "---\n",
    "title: \"lab 0 : Personal Finance\"\n",
    "author: Daniel Chamberlin\n",
    "format:\n",
    "  html:\n",
    "    theme: cerulean \n",
    "    toc: true\n",
    "    embed-resources: true\n",
    "---"
   ]
  },
  {
   "cell_type": "markdown",
   "metadata": {},
   "source": [
    "1. *What were your reasons for pursuing this MSBA program here at Cal Poly? Did you come straight from another academic program (Bachelors, Masters, etc.) or were you working before this? What program(s) or job did you come from?*\n",
    "\n",
    "Before this program I was an Applied Math major here at Cal Poly. I also had a concentration in Computer Science and a minor in economics so I had some interest in being able to use computer science in a business setting. Also, although I was an \"applied\" math major, I was feeling like I was coming out of college with no concrete skills to use in a job since my major was mostly conceptual math. So, with the help of one of my professors I was introduced to this program and felt it was a great fit for me.\n",
    "\n",
    "2. *What job or career do you hope to pursue after graduating from this MSBA program? Do you have particular industries or companies in mind? If so, what are they? Do you have particular places in mind that you'd like to live or work? Why are you interested in these companies, etc.?*\n",
    "\n",
    "Not entirely sure yet, something to do with data. As for the industry I would like to go into I have a lot of interest in the sports and health industries. I am a very active person so it would be cool to either work directly with sports or to be in an industry that supports that. And for where I would like to end up I would ultimately like to live in San Diego, where im from, but am very open to living somewhere for a little bit in teh meantime if I find something I'm interested in.\n",
    "\n",
    "3. *If you haven't already started thinking about your finances after graduation, let's start! You should use Python to store relevant values and perform the calculations described below:*\n",
    "\n",
    "- What is your estimate of the cost-of-living in your desired place to live, per month? You should justify this estimate by citing online sources or other relevant information. You should also break this down into component costs (e.g. housing, utilities, car, gas, internet, food, entertainment, etc.) as much as you can. \n",
    "- What is the annual salary you need to afford the costs you outlined above? This should, in essence, be the minimum salary you need to afford the life you could live happily (you could probably survive on less, but let's not get too detailed here). Be careful to consider whether you're taking taxes into account! We don't need to get too detailed here either, but you should try to estimate what your actual take-home pay is versus the gross salary that you might be presented with in the offer from your employer.\n",
    "- What is the annual salary you WANT? I imagine this will be higher than what was previously mentioned. What do you want the additional income for?\n",
    "- Finally, when do you want to retire and with how much money? This is where the bulk of your computations for this assignment will be, and you may need to do some research into how these things are computed. Your job may have retirement funding built into it; it may not. Additionally, there are some calculators online that do some of these types of calculations for you. I'd like you to (re-)do these calculations as much as possible on your own in Python.\n",
    "- What salary do you need to retire when you want with the amount that you specified?"
   ]
  },
  {
   "cell_type": "code",
   "execution_count": 16,
   "metadata": {},
   "outputs": [],
   "source": [
    "def annual_expense(monthly_expenses):\n",
    "    \"\"\"\n",
    "  Converts a list of monthly expenses into an annual expense total\n",
    "\n",
    "  Parameters\n",
    "  ----------\n",
    "  monthly_expenses: array of desired expenses to include\n",
    "    \n",
    "  Return\n",
    "  ------\n",
    "  annual expenses: int\n",
    "  \"\"\"\n",
    "    return sum(monthly_expenses) * 12\n",
    "\n",
    "\n",
    "def required_salary(annual_expenses, tax_rate):\n",
    "    \"\"\"\n",
    "  Calculates the gross salary required to cover annual expenses after taxes.\n",
    "\n",
    "  Parameters\n",
    "  ----------\n",
    "  annual_expenses: int\n",
    "  tax rate: float\n",
    "    \n",
    "  Return\n",
    "  ------\n",
    "  required salary: float\n",
    "  \"\"\"\n",
    "    return annual_expenses / (1 - tax_rate)\n",
    "\n",
    "\n",
    "def retirement_savings_needed(current_age, retirement_age, life_expectancy, desired_annual_income, current_savings, annual_return, inflation_rate):\n",
    "    \"\"\"\n",
    "  Computes how much more you need to save for retirement, considering inflation, \n",
    "  investment returns, and expected years in retirement.\n",
    "\n",
    "  Parameters\n",
    "  ----------\n",
    "  current_age: int\n",
    "  retirement_age: int\n",
    "  life_expectancy: int\n",
    "  desired_annual_income: int\n",
    "  current_savings: int\n",
    "  annual_return: float\n",
    "  inflation_rate: float\n",
    "    \n",
    "  Return\n",
    "  ------\n",
    "  required savings: float\n",
    "  \"\"\"\n",
    "    years_in_retirement = life_expectancy - retirement_age\n",
    "    # Money you need in retirement will be worth less over time due to inflation\n",
    "    adjusted_income = desired_annual_income * ((1 + inflation_rate) ** (retirement_age - current_age))\n",
    "    total_needed = 0\n",
    "    for year in range(years_in_retirement):\n",
    "        # Discount each year's spending to account for investment growth.\n",
    "        total_needed += adjusted_income / ((1 + annual_return) ** year)\n",
    "    additional_savings_needed = total_needed - current_savings\n",
    "    return additional_savings_needed\n",
    "\n",
    "\n",
    "def annual_savings_required(additional_savings_needed, years_to_save, annual_return):\n",
    "    '''\n",
    "    Calculates how much you need to save each year to meet your retirement goal.\n",
    "\n",
    "    Parameters\n",
    "  ----------\n",
    "  additional_savings_needed: float \n",
    "  years_to_save: int\n",
    "  annual_return: float\n",
    "    \n",
    "  Return\n",
    "  ------\n",
    "  required savings per year: float\n",
    "    '''\n",
    "    future_value_factor = ((1 + annual_return) ** years_to_save - 1) / annual_return\n",
    "    return additional_savings_needed / future_value_factor"
   ]
  },
  {
   "cell_type": "markdown",
   "metadata": {},
   "source": [
    "### Estimated Monthly Expenses in Encinitas\n",
    "(Source: BestPlaces, Payscale, LivingCost, ValuePenguin, and estimates)\n",
    "- Housing (Rent for sharing a 2-bedroom): $1,500\n",
    "- Utilities: $240\n",
    "- Internet: $34\n",
    "- Transportation(Gas): $150\n",
    "- Groceries: $290\n",
    "- Health Insurance: $400 (Estimate based on private insurance plans)\n",
    "- Auto Insurance: $120\n",
    "- Entertainment & Dining Out: $200\n",
    "- Miscellaneous Costs: $200\n",
    "\n",
    "### Additional Yearly Expenses\n",
    "- Travel: $5000\n",
    "- Savings and Investments: $15,000\n",
    "\n",
    "### Demographics and Other Metrics\n",
    "- Current Age: 23\n",
    "- Retirement Age: 65\n",
    "- Life expectancy: 80\n",
    "- Retirement Income: $75,0000\n",
    "- Current retirement savings: $0\n",
    "- Expected Annual Return on Investments: 6% (Based on historic stock market returns)\n",
    "- Inflation rate: 2%\n"
   ]
  },
  {
   "cell_type": "code",
   "execution_count": 17,
   "metadata": {},
   "outputs": [
    {
     "name": "stdout",
     "output_type": "stream",
     "text": [
      "Annual Expenses: $43,608.00\n",
      "Required Salary: $58,144.00\n",
      "Desired Salary: $78,144.00\n",
      "Retirement Savings Needed: $1,773,757.11\n",
      "Annual Savings Required for Retirement: $10,081.00\n"
     ]
    }
   ],
   "source": [
    "monthly_expenses =  [2000, 240, 34, 150, 290, 400, 120, 200, 200]\n",
    "annual_expenses = annual_expense(monthly_expenses)\n",
    "required_salary = required_salary(annual_expenses, 0.25)\n",
    "retirement_savings_needed = retirement_savings_needed(23, 65, 80, 75000, 0, 0.06, 0.02)\n",
    "annual_savings_required = annual_savings_required(retirement_savings_needed, 65 - 23, 0.06)\n",
    "\n",
    "print(f\"Annual Expenses: ${annual_expenses:,.2f}\")\n",
    "print(f\"Required Salary: ${required_salary:,.2f}\")\n",
    "print(f\"Desired Salary: ${required_salary + 20000:,.2f}\")\n",
    "print(f\"Retirement Savings Needed: ${retirement_savings_needed:,.2f}\")\n",
    "print(f\"Annual Savings Required for Retirement: ${annual_savings_required:,.2f}\")"
   ]
  },
  {
   "cell_type": "markdown",
   "metadata": {},
   "source": [
    "4. *What methods/models/topics are you most interested in learning about as part of this class?*\n",
    "\n",
    "I am mostly excited to have some more skills in my ML arsenal. I was interested in the text and image strategies you were describing in class. Also would love to see the counterpart of some of these strategies if their are any. Excited for the quarter!"
   ]
  }
 ],
 "metadata": {
  "kernelspec": {
   "display_name": "Python 3",
   "language": "python",
   "name": "python3"
  },
  "language_info": {
   "codemirror_mode": {
    "name": "ipython",
    "version": 3
   },
   "file_extension": ".py",
   "mimetype": "text/x-python",
   "name": "python",
   "nbconvert_exporter": "python",
   "pygments_lexer": "ipython3",
   "version": "3.10.1"
  }
 },
 "nbformat": 4,
 "nbformat_minor": 2
}
